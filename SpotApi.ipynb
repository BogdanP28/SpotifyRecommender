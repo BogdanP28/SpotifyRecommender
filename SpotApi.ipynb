{
 "cells": [
  {
   "cell_type": "code",
   "execution_count": 1,
   "metadata": {},
   "outputs": [],
   "source": [
    "import spotipy\n",
    "from spotipy.oauth2 import SpotifyClientCredentials"
   ]
  },
  {
   "cell_type": "markdown",
   "metadata": {},
   "source": [
    "### Reading client id and client secret code"
   ]
  },
  {
   "cell_type": "code",
   "execution_count": 2,
   "metadata": {},
   "outputs": [],
   "source": [
    "with open(\"Credentials.txt\") as reader:\n",
    "    lines = reader.readlines()\n",
    "    SPOTIFY_CLIENT_ID, SPOTIFY_CLIENT_SECRET = lines\n",
    "    SPOTIFY_CLIENT_ID = SPOTIFY_CLIENT_ID.strip(\"\\n\")\n",
    "    # [SPOTIFY_CLIENT_ID, SPOTIFY_CLIENT_SECRET] \n",
    "    reader.close()"
   ]
  },
  {
   "cell_type": "markdown",
   "metadata": {},
   "source": [
    "### Connecting to the API"
   ]
  },
  {
   "cell_type": "code",
   "execution_count": 3,
   "metadata": {},
   "outputs": [],
   "source": [
    "auth_credentials = SpotifyClientCredentials(client_id=SPOTIFY_CLIENT_ID, client_secret=SPOTIFY_CLIENT_SECRET)\n",
    "sp = spotipy.Spotify(auth_manager=auth_credentials)"
   ]
  },
  {
   "cell_type": "code",
   "execution_count": 4,
   "metadata": {},
   "outputs": [],
   "source": [
    "with open(r'D:\\Programming\\PySpark\\SpotifyRecommender\\playlist_links.txt') as reader:\n",
    "    lines = reader.readlines()\n",
    "    playlist_link = lines[0].strip('\\n')\n",
    "    reader.close()\n",
    "    \n",
    "playlist_info = sp.playlist(playlist_link)\n",
    "nr_songs = playlist_info[\"tracks\"][\"total\"]\n",
    "\n",
    "album_list = []\n",
    "song_list = []\n",
    "artist_genres_list = []\n",
    "artist_list = []\n",
    "song_genre_list = []\n",
    "\n",
    "tracks = playlist_info[\"tracks\"]\n",
    "items = tracks[\"items\"] \n",
    "#offset = 0\n"
   ]
  },
  {
   "cell_type": "code",
   "execution_count": 5,
   "metadata": {},
   "outputs": [
    {
     "ename": "IndexError",
     "evalue": "list index out of range",
     "output_type": "error",
     "traceback": [
      "\u001b[1;31m---------------------------------------------------------------------------\u001b[0m",
      "\u001b[1;31mIndexError\u001b[0m                                Traceback (most recent call last)",
      "\u001b[1;32md:\\Programming\\PySpark\\SpotifyRecommender\\SpotApi.ipynb Cell 7'\u001b[0m in \u001b[0;36m<module>\u001b[1;34m\u001b[0m\n\u001b[0;32m      <a href='vscode-notebook-cell:/d%3A/Programming/PySpark/SpotifyRecommender/SpotApi.ipynb#ch0000012?line=1'>2</a>\u001b[0m printable \u001b[39m=\u001b[39m \u001b[39mset\u001b[39m(string\u001b[39m.\u001b[39mprintable)\n\u001b[0;32m      <a href='vscode-notebook-cell:/d%3A/Programming/PySpark/SpotifyRecommender/SpotApi.ipynb#ch0000012?line=3'>4</a>\u001b[0m \u001b[39mfor\u001b[39;00m i \u001b[39min\u001b[39;00m \u001b[39mrange\u001b[39m(nr_songs\u001b[39m/\u001b[39m\u001b[39m/\u001b[39m\u001b[39m2\u001b[39m):\n\u001b[1;32m----> <a href='vscode-notebook-cell:/d%3A/Programming/PySpark/SpotifyRecommender/SpotApi.ipynb#ch0000012?line=4'>5</a>\u001b[0m     song_aux \u001b[39m=\u001b[39m items[i][\u001b[39m\"\u001b[39m\u001b[39mtrack\u001b[39m\u001b[39m\"\u001b[39m][\u001b[39m\"\u001b[39m\u001b[39mname\u001b[39m\u001b[39m\"\u001b[39m]\n\u001b[0;32m      <a href='vscode-notebook-cell:/d%3A/Programming/PySpark/SpotifyRecommender/SpotApi.ipynb#ch0000012?line=5'>6</a>\u001b[0m     song \u001b[39m=\u001b[39m \u001b[39m'\u001b[39m\u001b[39m'\u001b[39m\u001b[39m.\u001b[39mjoin(\u001b[39mfilter\u001b[39m(\u001b[39mlambda\u001b[39;00m x: x \u001b[39min\u001b[39;00m printable, song_aux))\n\u001b[0;32m      <a href='vscode-notebook-cell:/d%3A/Programming/PySpark/SpotifyRecommender/SpotApi.ipynb#ch0000012?line=8'>9</a>\u001b[0m     album \u001b[39m=\u001b[39m items[i][\u001b[39m\"\u001b[39m\u001b[39mtrack\u001b[39m\u001b[39m\"\u001b[39m][\u001b[39m\"\u001b[39m\u001b[39malbum\u001b[39m\u001b[39m\"\u001b[39m][\u001b[39m\"\u001b[39m\u001b[39mname\u001b[39m\u001b[39m\"\u001b[39m]\n",
      "\u001b[1;31mIndexError\u001b[0m: list index out of range"
     ]
    }
   ],
   "source": [
    "import string\n",
    "printable = set(string.printable)\n",
    "\n",
    "for i in range(nr_songs///20):\n",
    "    song_aux = items[i][\"track\"][\"name\"]\n",
    "    song = ''.join(filter(lambda x: x in printable, song_aux))\n",
    "    \n",
    "    \n",
    "    album = items[i][\"track\"][\"album\"][\"name\"]\n",
    "\n",
    "    meta_artist = items[i][\"track\"][\"artists\"][0][\"external_urls\"][\"spotify\"]\n",
    "    artist = sp.artist(meta_artist)\n",
    "    \n",
    "    artist_name_aux = artist[\"name\"]\n",
    "    artist_name_clean = ''.join(filter(lambda x: x in printable, artist_name_aux))\n",
    "    \n",
    "    artist_genres = artist['genres']\n",
    "\n",
    "    meta_album_link = items[i][\"track\"][\"album\"][\"external_urls\"][\"spotify\"]\n",
    "    meta_album = sp.album(meta_album_link)\n",
    "    song_genre = meta_album['genres']\n",
    "    \n",
    "    album_list.append(album)\n",
    "    song_list.append(song)\n",
    "    artist_genres_list.append(artist_genres)\n",
    "    artist_list.append(artist_name_clean)\n",
    "    song_genre_list.append(song_genre)\n",
    "    \n",
    " "
   ]
  },
  {
   "cell_type": "code",
   "execution_count": null,
   "metadata": {},
   "outputs": [],
   "source": [
    "final_data = list(zip(artist_list, song_list, album_list, artist_genres_list, song_genre_list))"
   ]
  },
  {
   "cell_type": "markdown",
   "metadata": {},
   "source": [
    "### Write CSV\n"
   ]
  },
  {
   "cell_type": "code",
   "execution_count": null,
   "metadata": {},
   "outputs": [],
   "source": [
    "import csv\n",
    "headers = [\"Name\", \"Song\", \"Album\", \"Artist Genre\", \"Song Genre\"]\n",
    "with open(\"BogdansLikedList.csv\", 'w', newline='') as f:\n",
    "    write = csv.writer(f)\n",
    "    write.writerow(headers)\n",
    "    write.writerows(final_data)"
   ]
  },
  {
   "cell_type": "code",
   "execution_count": null,
   "metadata": {},
   "outputs": [],
   "source": []
  }
 ],
 "metadata": {
  "interpreter": {
   "hash": "cd9f66f11cb119a5265fea4886cb67eb127a8a00f40145f7dd33282e91fb18a2"
  },
  "kernelspec": {
   "display_name": "Python 3.9.10 64-bit",
   "language": "python",
   "name": "python3"
  },
  "language_info": {
   "codemirror_mode": {
    "name": "ipython",
    "version": 3
   },
   "file_extension": ".py",
   "mimetype": "text/x-python",
   "name": "python",
   "nbconvert_exporter": "python",
   "pygments_lexer": "ipython3",
   "version": "3.9.10"
  },
  "orig_nbformat": 4
 },
 "nbformat": 4,
 "nbformat_minor": 2
}
